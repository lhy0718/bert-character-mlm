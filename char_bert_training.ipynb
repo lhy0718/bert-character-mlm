{
 "cells": [
  {
   "cell_type": "markdown",
   "metadata": {
    "tags": []
   },
   "source": [
    "# Loading model & tokenizer"
   ]
  },
  {
   "cell_type": "code",
   "execution_count": 1,
   "metadata": {},
   "outputs": [],
   "source": [
    "from transformers import AutoTokenizer, BertForMaskedLM, BertConfig\n",
    "\n",
    "MODEL_NAME = 'char-bert-base-uncased'\n",
    "tokenizer = AutoTokenizer.from_pretrained(\n",
    "    MODEL_NAME, \n",
    "    use_fast=True,\n",
    ")\n",
    "\n",
    "config = BertConfig(\n",
    "    max_position_embeddings=1024, \n",
    "    vocab_size=len(tokenizer)\n",
    ")\n",
    "model = BertForMaskedLM(config)"
   ]
  },
  {
   "cell_type": "markdown",
   "metadata": {},
   "source": [
    "# Loading dataset"
   ]
  },
  {
   "cell_type": "code",
   "execution_count": 5,
   "metadata": {},
   "outputs": [],
   "source": [
    "import pandas as pd\n",
    "from tqdm.auto import tqdm\n",
    "from datasets import Dataset\n",
    "from typing import List\n",
    "\n",
    "MAX_SEQUENCE = 830\n",
    "SAMPLE_SIZE = 100000\n",
    "\n",
    "sents_origin = [\n",
    "    s[:MAX_SEQUENCE].lower() for s in\n",
    "    pd.read_csv('../en_setence.csv').clean.to_list()[:SAMPLE_SIZE]\n",
    "]\n",
    "\n",
    "def make_mlm_dataset(sentences: List[str], num_proc: int = 4):\n",
    "    return Dataset.from_dict(\n",
    "        {'text': sentences}\n",
    "    ).map(\n",
    "        lambda x: tokenizer(\n",
    "            x['text'],\n",
    "            return_special_tokens_mask=True,\n",
    "        ),\n",
    "        num_proc=num_proc,\n",
    "    )\n",
    "    \n",
    "dataset = make_mlm_dataset(sents_origin)"
   ]
  },
  {
   "cell_type": "markdown",
   "metadata": {},
   "source": [
    "# Defining Trainer"
   ]
  },
  {
   "cell_type": "code",
   "execution_count": null,
   "metadata": {},
   "outputs": [
    {
     "name": "stderr",
     "output_type": "stream",
     "text": [
      "/home/jinho/anaconda3/lib/python3.8/site-packages/onnxruntime/capi/onnxruntime_validation.py:112: UserWarning: onnxruntime training package info: package_name: onnxruntime-training\n",
      "  warnings.warn('onnxruntime training package info: package_name: %s' % package_name)\n",
      "/home/jinho/anaconda3/lib/python3.8/site-packages/onnxruntime/capi/onnxruntime_validation.py:113: UserWarning: onnxruntime training package info: __version__: 1.9.0\n",
      "  warnings.warn('onnxruntime training package info: __version__: %s' % version)\n",
      "/home/jinho/anaconda3/lib/python3.8/site-packages/onnxruntime/capi/onnxruntime_validation.py:114: UserWarning: onnxruntime training package info: cuda_version: 10.2\n",
      "  warnings.warn('onnxruntime training package info: cuda_version: %s' % cuda_version)\n",
      "/home/jinho/anaconda3/lib/python3.8/site-packages/onnxruntime/capi/onnxruntime_validation.py:115: UserWarning: onnxruntime build info: cudart_version: 10020\n",
      "  warnings.warn('onnxruntime build info: cudart_version: %s' % cudart_version)\n",
      "/home/jinho/anaconda3/lib/python3.8/site-packages/onnxruntime/capi/onnxruntime_validation.py:122: UserWarning: WARNING: failed to find cudart version that matches onnxruntime build info\n",
      "  warnings.warn('WARNING: failed to find cudart version that matches onnxruntime build info')\n",
      "/home/jinho/anaconda3/lib/python3.8/site-packages/onnxruntime/capi/onnxruntime_validation.py:123: UserWarning: WARNING: found cudart versions: [11010]\n",
      "  warnings.warn('WARNING: found cudart versions: %s' % local_cudart_versions)\n"
     ]
    },
    {
     "name": "stdout",
     "output_type": "stream",
     "text": [
      "MODEL_DIR: 2021-12-06-21-47-14\n",
      "model: cuda:0\n",
      "trainer: cuda:0\n"
     ]
    },
    {
     "data": {
      "text/html": [
       "\n",
       "    <div>\n",
       "      \n",
       "      <progress value='4653' max='375000' style='width:300px; height:20px; vertical-align: middle;'></progress>\n",
       "      [  4653/375000 09:17 < 12:20:04, 8.34 it/s, Epoch 0.37/30]\n",
       "    </div>\n",
       "    <table border=\"1\" class=\"dataframe\">\n",
       "  <thead>\n",
       "    <tr style=\"text-align: left;\">\n",
       "      <th>Step</th>\n",
       "      <th>Training Loss</th>\n",
       "    </tr>\n",
       "  </thead>\n",
       "  <tbody>\n",
       "  </tbody>\n",
       "</table><p>"
      ],
      "text/plain": [
       "<IPython.core.display.HTML object>"
      ]
     },
     "metadata": {},
     "output_type": "display_data"
    }
   ],
   "source": [
    "from transformers import Trainer, TrainingArguments\n",
    "import os\n",
    "from datetime import datetime\n",
    "import torch\n",
    "import torch_ort\n",
    "import gc\n",
    "from transformers import DataCollatorForLanguageModeling\n",
    "\n",
    "## Wipe memory\n",
    "gc.collect()\n",
    "torch.cuda.empty_cache()\n",
    "\n",
    "## Select visible gpus\n",
    "# os.environ['CUDA_VISIBLE_DEVICES'] = '0'\n",
    "\n",
    "MODEL_DIR = os.path.join(\n",
    "    datetime.now().strftime(\"%Y-%m-%d-%H-%M-%S\")\n",
    ")\n",
    "\n",
    "training_args = TrainingArguments(\n",
    "    output_dir=MODEL_DIR,\n",
    "    num_train_epochs=30,\n",
    "    per_device_train_batch_size=8,\n",
    "    # evaluation_strategy='epoch',\n",
    "    logging_dir=os.path.join(MODEL_DIR, 'tensorboard'),\n",
    "    logging_strategy='epoch',\n",
    "    log_level='warning',\n",
    "    save_strategy='epoch',\n",
    ")\n",
    "training_args._n_gpu = 1\n",
    "\n",
    "data_collator = DataCollatorForLanguageModeling(\n",
    "    tokenizer=tokenizer\n",
    ")\n",
    "\n",
    "trainer = Trainer(\n",
    "    model,\n",
    "    training_args,\n",
    "    train_dataset=dataset,\n",
    "    data_collator=data_collator,\n",
    ")\n",
    "\n",
    "print('MODEL_DIR:', MODEL_DIR)\n",
    "print('model:', model.device)\n",
    "print('trainer:', training_args.device)\n",
    "\n",
    "trainer.train()#resume_from_checkpoint=True)\n",
    "trainer.save_model()\n",
    "test_result = trainer.evaluate(test)\n",
    "print(test_result)"
   ]
  },
  {
   "cell_type": "markdown",
   "metadata": {},
   "source": [
    "# Pridiction"
   ]
  },
  {
   "cell_type": "code",
   "execution_count": 84,
   "metadata": {},
   "outputs": [
    {
     "name": "stdout",
     "output_type": "stream",
     "text": [
      "['##o i don t think playing with yourself is awful but if friends relatives colleagues receive video of it bad for uo']\n"
     ]
    }
   ],
   "source": [
    "test_sents_origin = [\n",
    "    'i don t think playing with yourself is awful but if friends relatives colleagues receive video of it bad for u',\n",
    "    'if u want me to destroy this compromising evidence use my bitcoin wallet address you have day after',\n",
    "    'received email do not mind on my illiteracy i am from china i uploaded the malicious program on your system',\n",
    "    'the most interesting evidence that i stole its a videotape with your masturbation',\n",
    "    'my deleterious soft at once set up on your system in addition it saved precisely the porn video you masturbated on',\n",
    "]\n",
    "\n",
    "test = make_mlm_dataset(test_sents_origin)\n",
    "\n",
    "outputs = trainer.predict(test)\n",
    "\n",
    "print('input:')\n",
    "print('\\n'.join(tokenizer.batch_decode(test['input_ids'])))\n",
    "output_texts = tokenizer.batch_decode(torch.argmax(torch.Tensor(outputs.predictions), -1))\n",
    "print('output:')\n",
    "print('\\n'.join(output_texts))"
   ]
  },
  {
   "cell_type": "code",
   "execution_count": null,
   "metadata": {},
   "outputs": [],
   "source": []
  }
 ],
 "metadata": {
  "kernelspec": {
   "display_name": "Python 3",
   "language": "python",
   "name": "python3"
  },
  "language_info": {
   "codemirror_mode": {
    "name": "ipython",
    "version": 3
   },
   "file_extension": ".py",
   "mimetype": "text/x-python",
   "name": "python",
   "nbconvert_exporter": "python",
   "pygments_lexer": "ipython3",
   "version": "3.8.8"
  }
 },
 "nbformat": 4,
 "nbformat_minor": 4
}
