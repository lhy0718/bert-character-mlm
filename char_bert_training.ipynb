{
 "cells": [
  {
   "cell_type": "markdown",
   "metadata": {
    "tags": []
   },
   "source": [
    "# Loading model & tokenizer"
   ]
  },
  {
   "cell_type": "code",
   "execution_count": 10,
   "metadata": {},
   "outputs": [],
   "source": [
    "from transformers import AutoTokenizer, BertForMaskedLM, BertConfig\n",
    "\n",
    "MODEL_NAME = 'char-bert-base-uncased'\n",
    "RESUME_FROM_CHECKPOINT = True\n",
    "CHECKPOINT_DIR = '2021-12-07-23-20-11'\n",
    "CHECKPOINT_STEP = '75810'\n",
    "\n",
    "tokenizer = AutoTokenizer.from_pretrained(\n",
    "    MODEL_NAME, \n",
    "    use_fast=True,\n",
    ")\n",
    "\n",
    "config = BertConfig(\n",
    "    max_position_embeddings=1024, \n",
    "    vocab_size=len(tokenizer)\n",
    ")\n",
    "model = BertForMaskedLM.from_pretrained(\n",
    "    f'{CHECKPOINT_DIR}/checkpoint-{CHECKPOINT_STEP}' if RESUME_FROM_CHECKPOINT\n",
    "    else MODEL_NAME\n",
    ")"
   ]
  },
  {
   "cell_type": "markdown",
   "metadata": {},
   "source": [
    "# Loading dataset"
   ]
  },
  {
   "cell_type": "code",
   "execution_count": 11,
   "metadata": {},
   "outputs": [
    {
     "name": "stdout",
     "output_type": "stream",
     "text": [
      "Dataset({\n",
      "    features: ['text', 'input_ids', 'token_type_ids', 'attention_mask', 'special_tokens_mask'],\n",
      "    num_rows: 20213\n",
      "})\n"
     ]
    }
   ],
   "source": [
    "import pandas as pd\n",
    "from tqdm.auto import tqdm\n",
    "from datasets import Dataset\n",
    "from typing import List\n",
    "\n",
    "MAX_SEQUENCE = 830\n",
    "\n",
    "sents_origin = [\n",
    "    s[:MAX_SEQUENCE].lower() for s in\n",
    "    pd.read_csv('../homo_dic_OCR.csv').dic.to_list()\n",
    "]\n",
    "\n",
    "def make_mlm_dataset(sentences: List[str], num_proc: int = 4):\n",
    "    return Dataset.from_dict(\n",
    "        {'text': sentences}\n",
    "    ).map(\n",
    "        lambda x: tokenizer(\n",
    "            x['text'],\n",
    "            return_special_tokens_mask=True,\n",
    "        ),\n",
    "        num_proc=num_proc,\n",
    "    )\n",
    "    \n",
    "dataset = make_mlm_dataset(sents_origin)\n",
    "print(dataset)"
   ]
  },
  {
   "cell_type": "markdown",
   "metadata": {},
   "source": [
    "# Defining Trainer & Training"
   ]
  },
  {
   "cell_type": "code",
   "execution_count": 14,
   "metadata": {},
   "outputs": [
    {
     "name": "stdout",
     "output_type": "stream",
     "text": [
      "TRAINER_DIR: 2021-12-07-23-20-11\n",
      "model: cuda:0\n",
      "trainer: cuda:0\n"
     ]
    },
    {
     "data": {
      "application/vnd.jupyter.widget-view+json": {
       "model_id": "780041f30bd14574a1b90508f6a4ff70",
       "version_major": 2,
       "version_minor": 0
      },
      "text/plain": [
       "0it [00:00, ?it/s]"
      ]
     },
     "metadata": {},
     "output_type": "display_data"
    },
    {
     "data": {
      "text/html": [
       "\n",
       "    <div>\n",
       "      \n",
       "      <progress value='75810' max='75810' style='width:300px; height:20px; vertical-align: middle;'></progress>\n",
       "      [75810/75810 : < :, Epoch 30/30]\n",
       "    </div>\n",
       "    <table border=\"1\" class=\"dataframe\">\n",
       "  <thead>\n",
       "    <tr style=\"text-align: left;\">\n",
       "      <th>Step</th>\n",
       "      <th>Training Loss</th>\n",
       "    </tr>\n",
       "  </thead>\n",
       "  <tbody>\n",
       "  </tbody>\n",
       "</table><p>"
      ],
      "text/plain": [
       "<IPython.core.display.HTML object>"
      ]
     },
     "metadata": {},
     "output_type": "display_data"
    },
    {
     "name": "stdout",
     "output_type": "stream",
     "text": [
      "model saved to: char-bert-base-uncased\n"
     ]
    }
   ],
   "source": [
    "from transformers import Trainer, TrainingArguments\n",
    "import os\n",
    "from datetime import datetime\n",
    "import torch\n",
    "import gc\n",
    "from transformers import DataCollatorForLanguageModeling\n",
    "\n",
    "## Wipe memory\n",
    "gc.collect()\n",
    "torch.cuda.empty_cache()\n",
    "\n",
    "## Select visible gpus\n",
    "# os.environ['CUDA_VISIBLE_DEVICES'] = '0'\n",
    "\n",
    "TRAINER_DIR = os.path.join(\n",
    "    CHECKPOINT_DIR if RESUME_FROM_CHECKPOINT\n",
    "    else datetime.now().strftime(\"%Y-%m-%d-%H-%M-%S\")\n",
    ")\n",
    "\n",
    "training_args = TrainingArguments(\n",
    "    output_dir=TRAINER_DIR,\n",
    "    num_train_epochs=30,\n",
    "    per_device_train_batch_size=8,\n",
    "    # evaluation_strategy='epoch',\n",
    "    logging_dir=os.path.join(TRAINER_DIR, 'tensorboard'),\n",
    "    logging_strategy='epoch',\n",
    "    log_level='warning',\n",
    "    save_strategy='epoch',\n",
    "    save_total_limit=5,\n",
    ")\n",
    "training_args._n_gpu = 1\n",
    "\n",
    "data_collator = DataCollatorForLanguageModeling(\n",
    "    tokenizer=tokenizer\n",
    ")\n",
    "\n",
    "trainer = Trainer(\n",
    "    model,\n",
    "    training_args,\n",
    "    train_dataset=dataset,\n",
    "    data_collator=data_collator,\n",
    ")\n",
    "\n",
    "print('TRAINER_DIR:', TRAINER_DIR)\n",
    "print('model:', model.device)\n",
    "print('trainer:', training_args.device)\n",
    "\n",
    "trainer.train(resume_from_checkpoint=RESUME_FROM_CHECKPOINT)\n",
    "trainer.save_model(MODEL_NAME)\n",
    "print('model saved to:', MODEL_NAME)"
   ]
  },
  {
   "cell_type": "markdown",
   "metadata": {},
   "source": [
    "# Pridiction"
   ]
  },
  {
   "cell_type": "code",
   "execution_count": 19,
   "metadata": {},
   "outputs": [
    {
     "data": {
      "application/vnd.jupyter.widget-view+json": {
       "model_id": "3974b2341e444832adfb690148839b2a",
       "version_major": 2,
       "version_minor": 0
      },
      "text/plain": [
       "Masking homoglyph chararcters:   0%|          | 0/6 [00:00<?, ?it/s]"
      ]
     },
     "metadata": {},
     "output_type": "display_data"
    },
    {
     "name": "stdout",
     "output_type": "stream",
     "text": [
      "\n",
      "origin inputs: ============================================\n",
      "\tYou do not know me ánd you are most likely wondering why you're gétting this mail, correct? Wèll, I actuàlly placed a màlware on thé adult vids website ãnd guess what, you visited this sitè to experience fun\n",
      "\tWhile you were watching vidèos, your browser initiatèd working as á RDP thàt has a keylogger which gave me âccess to your display ãs wéll as web camera... I créatéd a double-screèn vidéo\n",
      "\tYou will make thè pãyment through Bitcoin. BTC Address: 1L5XWDz7d2NjvuSspQr7sNXtUP5JrGpj52\n",
      "\tIt sèèms thât, don'tknow, is your password\n",
      "\tLét me tèll you, I plãced a malwãre on the adult video clips (porn) web site and do you know what, you visitèd this site to expériènce fun (you know whät I mean)\n",
      "\tWell, in my opinion, $1900 is a fair price for our little sécret\n",
      "\n",
      "masked inputs: ============================================\n",
      "\tyou do not know me [MASK]nd you are most likely wondering why you re g[MASK]tting this mail correct w[MASK]ll i actu[MASK]lly placed a m[MASK]lware on th[MASK] adult vids website [MASK]nd guess what you visited this sit[MASK] to experience fun\n",
      "\twhile you were watching vid[MASK]os your browser initiat[MASK]d working as [MASK] rdp th[MASK]t has a keylogger which gave me [MASK]ccess to your display [MASK]s w[MASK]ll as web camera i cr[MASK]at[MASK]d a double scre[MASK]n vid[MASK]o\n",
      "\tyou will make th[MASK] p[MASK]yment through bitcoin btc address\n",
      "\tit s[MASK][MASK]ms th[MASK]t don tknow is your password\n",
      "\tl[MASK]t me t[MASK]ll you i pl[MASK]ced a malw[MASK]re on the adult video clips porn web site and do you know what you visit[MASK]d this site to exp[MASK]ri[MASK]nce fun you know wh[MASK]t i mean\n",
      "\twell in my opinion is a fair price for our little s[MASK]cret\n",
      "\n",
      "outputs: ============================================\n",
      "\tyou don't know me and you are most likely wondering why you re getting this mail correct well i actually placed a malware on the adult vids website and guess what you visited this site to experience fun\n",
      "\twhile you were watching videos your browser initiated working as a rdp that has a keylogger which gave me access to your display as well as web camera i createn a double screen video\n",
      "\tyou will make the payment through bitcoin btc address\n",
      "\tit saome that don t know is your pass word\n",
      "\tlet me tell you i placed a malware on the adult video clips porn web site and do you know what you visited this site to experience fun you know what i mean\n",
      "\twell in my opinion is a fair price for our little secret\n"
     ]
    }
   ],
   "source": [
    "import torch\n",
    "import numpy as np\n",
    "from data_processing import mask_homo\n",
    "\n",
    "test_sents_origin = [\n",
    "    \"You do not know me ánd you are most likely wondering why you're gétting this mail, correct? Wèll, I actuàlly placed a màlware on thé adult vids website ãnd guess what, you visited this sitè to experience fun\",\n",
    "    \"While you were watching vidèos, your browser initiatèd working as á RDP thàt has a keylogger which gave me âccess to your display ãs wéll as web camera... I créatéd a double-screèn vidéo\",\n",
    "    \"You will make thè pãyment through Bitcoin. BTC Address: 1L5XWDz7d2NjvuSspQr7sNXtUP5JrGpj52\",\n",
    "    \"It sèèms thât, don'tknow, is your password\",\n",
    "    \"Lét me tèll you, I plãced a malwãre on the adult video clips (porn) web site and do you know what, you visitèd this site to expériènce fun (you know whät I mean)\",\n",
    "    \"Well, in my opinion, $1900 is a fair price for our little sécret\",\n",
    "]\n",
    "\n",
    "test_sents_masked = mask_homo(test_sents_origin)\n",
    "\n",
    "print('\\norigin inputs: ============================================')\n",
    "print(*['\\t'+t for t in test_sents_origin], sep='\\n')\n",
    "\n",
    "\n",
    "print('\\nmasked inputs: ============================================')\n",
    "print(*['\\t'+t for t in test_sents_masked], sep='\\n')\n",
    "\n",
    "\n",
    "test_inputs = tokenizer(\n",
    "    test_sents_masked,\n",
    "    padding=True,\n",
    "    return_special_tokens_mask=True,\n",
    "    return_tensors='pt',\n",
    ").to(model.device)\n",
    "# print('\\nraw inputs: ============================================')\n",
    "# print(*['\\t'+t for t in tokenizer.batch_decode(test_inputs['input_ids'])], sep='\\n')\n",
    "\n",
    "test_special_tokens_mask = test_inputs.pop('special_tokens_mask')\n",
    "test_output = model(**test_inputs)\n",
    "test_output_ids = torch.argmax(torch.Tensor(test_output.logits.cpu()), -1)\n",
    "test_output_texts = tokenizer.batch_decode(test_output_ids)\n",
    "# print('\\nraw outputs: ============================================')\n",
    "# print(*['\\t'+t for t in test_output_texts], sep='\\n')\n",
    "\n",
    "test_output_texts_cleaned = tokenizer.batch_decode([\n",
    "    torch.masked_select(\n",
    "        ids, masks\n",
    "    )\n",
    "    for ids, masks in zip(test_output_ids, test_special_tokens_mask == 0)\n",
    "])\n",
    "print('\\noutputs: ============================================')\n",
    "print(*['\\t'+t for t in test_output_texts_cleaned], sep='\\n')"
   ]
  },
  {
   "cell_type": "code",
   "execution_count": null,
   "metadata": {},
   "outputs": [],
   "source": []
  }
 ],
 "metadata": {
  "kernelspec": {
   "display_name": "Python 3",
   "language": "python",
   "name": "python3"
  },
  "language_info": {
   "codemirror_mode": {
    "name": "ipython",
    "version": 3
   },
   "file_extension": ".py",
   "mimetype": "text/x-python",
   "name": "python",
   "nbconvert_exporter": "python",
   "pygments_lexer": "ipython3",
   "version": "3.8.8"
  }
 },
 "nbformat": 4,
 "nbformat_minor": 4
}
