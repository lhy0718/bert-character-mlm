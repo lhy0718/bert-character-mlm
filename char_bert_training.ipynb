{
 "cells": [
  {
   "cell_type": "markdown",
   "metadata": {},
   "source": [
    "# Loading dataset"
   ]
  },
  {
   "cell_type": "code",
   "execution_count": 25,
   "metadata": {},
   "outputs": [
    {
     "data": {
      "application/vnd.jupyter.widget-view+json": {
       "model_id": "fc19cb9e5e38468cba3bfaf2ba6ae126",
       "version_major": 2,
       "version_minor": 0
      },
      "text/plain": [
       "Masking homoglyph chararcters:   0%|          | 0/2000 [00:00<?, ?it/s]"
      ]
     },
     "metadata": {},
     "output_type": "display_data"
    }
   ],
   "source": [
    "import pandas as pd\n",
    "from data_processing import mask_homo\n",
    "\n",
    "MAX_SEQUENCE = 830\n",
    "SAMPLE_SIZE = 2000\n",
    "\n",
    "sents_origin = [\n",
    "    s[:MAX_SEQUENCE] for s in\n",
    "    pd.read_csv('en_setence.csv').clean.to_list()[:SAMPLE_SIZE]\n",
    "]\n",
    "\n",
    "sent_masked = mask_homo(sents_origin)\n"
   ]
  },
  {
   "cell_type": "markdown",
   "metadata": {},
   "source": [
    "# Loading model & tokenizer"
   ]
  },
  {
   "cell_type": "code",
   "execution_count": 2,
   "metadata": {},
   "outputs": [],
   "source": [
    "from transformers import AutoTokenizer, BertForMaskedLM, BertConfig\n",
    "\n",
    "MODEL_NAME = 'char-bert-base-uncased'\n",
    "tokenizer = AutoTokenizer.from_pretrained(MODEL_NAME)\n",
    "\n",
    "config = BertConfig(\n",
    "    max_position_embeddings=1024, \n",
    "    vocab_size=len(tokenizer)\n",
    ")\n",
    "model = BertForMaskedLM(config)"
   ]
  },
  {
   "cell_type": "code",
   "execution_count": null,
   "metadata": {},
   "outputs": [],
   "source": []
  }
 ],
 "metadata": {
  "kernelspec": {
   "display_name": "Python 3",
   "language": "python",
   "name": "python3"
  },
  "language_info": {
   "codemirror_mode": {
    "name": "ipython",
    "version": 3
   },
   "file_extension": ".py",
   "mimetype": "text/x-python",
   "name": "python",
   "nbconvert_exporter": "python",
   "pygments_lexer": "ipython3",
   "version": "3.8.8"
  },
  "orig_nbformat": 4
 },
 "nbformat": 4,
 "nbformat_minor": 2
}
