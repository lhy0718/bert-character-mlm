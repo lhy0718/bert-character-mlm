{
 "cells": [
  {
   "cell_type": "markdown",
   "metadata": {
    "tags": []
   },
   "source": [
    "# Loading model & tokenizer"
   ]
  },
  {
   "cell_type": "code",
   "execution_count": null,
   "metadata": {},
   "outputs": [],
   "source": [
    "from transformers import AutoTokenizer, BertForMaskedLM, BertConfig\n",
    "\n",
    "MODEL_NAME = 'char-bert-base-uncased'\n",
    "tokenizer = AutoTokenizer.from_pretrained(\n",
    "    MODEL_NAME, \n",
    "    use_fast=True,\n",
    ")\n",
    "\n",
    "config = BertConfig(\n",
    "    max_position_embeddings=1024, \n",
    "    vocab_size=len(tokenizer)\n",
    ")\n",
    "model = BertForMaskedLM(config)"
   ]
  },
  {
   "cell_type": "markdown",
   "metadata": {},
   "source": [
    "# Loading dataset"
   ]
  },
  {
   "cell_type": "code",
   "execution_count": null,
   "metadata": {},
   "outputs": [],
   "source": [
    "import pandas as pd\n",
    "from tqdm.auto import tqdm\n",
    "from datasets import Dataset\n",
    "from typing import List\n",
    "\n",
    "MAX_SEQUENCE = 830\n",
    "SAMPLE_SIZE = 100000\n",
    "\n",
    "sents_origin = [\n",
    "    s[:MAX_SEQUENCE].lower() for s in\n",
    "    pd.read_csv('../en_setence.csv').clean.to_list()[:SAMPLE_SIZE]\n",
    "]\n",
    "\n",
    "def make_mlm_dataset(sentences: List[str], num_proc: int = 4):\n",
    "    return Dataset.from_dict(\n",
    "        {'text': sentences}\n",
    "    ).map(\n",
    "        lambda x: tokenizer(\n",
    "            x['text'],\n",
    "            return_special_tokens_mask=True,\n",
    "        ),\n",
    "        num_proc=num_proc,\n",
    "    )\n",
    "    \n",
    "dataset = make_mlm_dataset(sents_origin)"
   ]
  },
  {
   "cell_type": "markdown",
   "metadata": {},
   "source": [
    "# Defining Trainer"
   ]
  },
  {
   "cell_type": "code",
   "execution_count": null,
   "metadata": {},
   "outputs": [],
   "source": [
    "from transformers import Trainer, TrainingArguments\n",
    "import os\n",
    "from datetime import datetime\n",
    "import torch\n",
    "import torch_ort\n",
    "import gc\n",
    "from transformers import DataCollatorForLanguageModeling\n",
    "\n",
    "## Wipe memory\n",
    "gc.collect()\n",
    "torch.cuda.empty_cache()\n",
    "\n",
    "## Select visible gpus\n",
    "# os.environ['CUDA_VISIBLE_DEVICES'] = '0'\n",
    "\n",
    "MODEL_DIR = os.path.join(\n",
    "    datetime.now().strftime(\"%Y-%m-%d-%H-%M-%S\")\n",
    ")\n",
    "\n",
    "training_args = TrainingArguments(\n",
    "    output_dir=MODEL_DIR,\n",
    "    num_train_epochs=30,\n",
    "    per_device_train_batch_size=8,\n",
    "    # evaluation_strategy='epoch',\n",
    "    logging_dir=os.path.join(MODEL_DIR, 'tensorboard'),\n",
    "    logging_strategy='epoch',\n",
    "    log_level='warning',\n",
    "    save_strategy='epoch',\n",
    ")\n",
    "training_args._n_gpu = 1\n",
    "\n",
    "data_collator = DataCollatorForLanguageModeling(\n",
    "    tokenizer=tokenizer\n",
    ")\n",
    "\n",
    "trainer = Trainer(\n",
    "    model,\n",
    "    training_args,\n",
    "    train_dataset=dataset,\n",
    "    data_collator=data_collator,\n",
    ")\n",
    "\n",
    "print('MODEL_DIR:', MODEL_DIR)\n",
    "print('model:', model.device)\n",
    "print('trainer:', training_args.device)\n",
    "\n",
    "trainer.train()#resume_from_checkpoint=True)\n",
    "trainer.save_model()"
   ]
  },
  {
   "cell_type": "markdown",
   "metadata": {},
   "source": [
    "# Pridiction"
   ]
  },
  {
   "cell_type": "code",
   "execution_count": null,
   "metadata": {},
   "outputs": [],
   "source": [
    "test_sents_origin = [\n",
    "    'i don t think playing with yourself is awful but if friends relatives colleagues receive video of it bad for u',\n",
    "    'if u want me to destroy this compromising evidence use my bitcoin wallet address you have day after',\n",
    "    'received email do not mind on my illiteracy i am from china i uploaded the malicious program on your system',\n",
    "    'the most interesting evidence that i stole its a videotape with your masturbation',\n",
    "    'my deleterious soft at once set up on your system in addition it saved precisely the porn video you masturbated on',\n",
    "]\n",
    "\n",
    "test = make_mlm_dataset(test_sents_origin)\n",
    "\n",
    "outputs = trainer.predict(test)\n",
    "\n",
    "print('input:')\n",
    "print('\\n'.join(tokenizer.batch_decode(test['input_ids'])))\n",
    "output_texts = tokenizer.batch_decode(torch.argmax(torch.Tensor(outputs.predictions), -1))\n",
    "print('output:')\n",
    "print('\\n'.join(output_texts))"
   ]
  },
  {
   "cell_type": "code",
   "execution_count": null,
   "metadata": {},
   "outputs": [],
   "source": []
  }
 ],
 "metadata": {
  "kernelspec": {
   "display_name": "Python 3",
   "language": "python",
   "name": "python3"
  },
  "language_info": {
   "codemirror_mode": {
    "name": "ipython",
    "version": 3
   },
   "file_extension": ".py",
   "mimetype": "text/x-python",
   "name": "python",
   "nbconvert_exporter": "python",
   "pygments_lexer": "ipython3",
   "version": "3.8.8"
  }
 },
 "nbformat": 4,
 "nbformat_minor": 4
}
