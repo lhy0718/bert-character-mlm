{
 "cells": [
  {
   "cell_type": "code",
   "execution_count": 2,
   "metadata": {},
   "outputs": [],
   "source": [
    "import pandas as pd\n",
    "\n",
    "descriptions = pd.read_csv('edit_219030.csv').description.dropna()\n",
    "with open('desc.txt', 'w') as f:\n",
    "    f.write('\\n'.join(descriptions))\n"
   ]
  },
  {
   "cell_type": "code",
   "execution_count": null,
   "metadata": {},
   "outputs": [],
   "source": [
    "# making training dataset\n",
    "export WORKDIR=~/onnx/homoglyph/character-bert-pretraining\n",
    "WORKDIR=$WORKDIR \\\n",
    "    python make_shards.py \\\n",
    "        --formatted_corpus_path=$WORKDIR/data/formatted/homoglyph/desc.txt \\\n",
    "        --n_training_shards=4096 \\\n",
    "        --n_validation_shards=16 \\\n",
    "        --random_seed=42\n",
    "WORKDIR=$WORKDIR \\\n",
    "    python build_mlm_vocabulary.py \\\n",
    "        --formatted_corpus_path=$WORKDIR/data/formatted/homoglyph/desc.txt\n",
    "WORKDIR=$WORKDIR \\\n",
    "    python make_hdf5.py \\\n",
    "        --shards_path=$WORKDIR/data/shards/homoglyph/ \\\n",
    "        --output_directory=$WORKDIR/data/hdf5/homoglyph/character_bert/128_20/ \\\n",
    "        --max_input_length=128 \\\n",
    "        --max_masked_tokens_per_input=20 \\\n",
    "        --is_character_bert  # change this accordingly\n",
    "\n",
    "#pretraining\n",
    "bash $WORKDIR/bash_scripts/run_pretraining.character_bert.step_1.sh\n"
   ]
  },
  {
   "cell_type": "code",
   "execution_count": null,
   "metadata": {},
   "outputs": [],
   "source": [
    "%tensorboard --logdir=~/onnx/homoglyph/character-bert-pretraining/.tensorboard_logs/\n"
   ]
  }
 ],
 "metadata": {
  "interpreter": {
   "hash": "0cd2cc14dc4884be012792e764fd6aba2a408389c31481f00adcbecf8803fc81"
  },
  "kernelspec": {
   "display_name": "Python 3.8.12 64-bit ('pretraining': conda)",
   "language": "python",
   "name": "python3"
  },
  "language_info": {
   "codemirror_mode": {
    "name": "ipython",
    "version": 3
   },
   "file_extension": ".py",
   "mimetype": "text/x-python",
   "name": "python",
   "nbconvert_exporter": "python",
   "pygments_lexer": "ipython3",
   "version": "3.8.12"
  },
  "orig_nbformat": 4
 },
 "nbformat": 4,
 "nbformat_minor": 2
}
