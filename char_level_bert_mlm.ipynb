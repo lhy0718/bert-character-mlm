{
 "cells": [
  {
   "cell_type": "markdown",
   "metadata": {},
   "source": [
    "# Training"
   ]
  },
  {
   "cell_type": "markdown",
   "metadata": {},
   "source": [
    "## module test"
   ]
  },
  {
   "cell_type": "code",
   "execution_count": 1,
   "metadata": {},
   "outputs": [
    {
     "name": "stderr",
     "output_type": "stream",
     "text": [
      "Inputs: Encoding texts...: 100%|██████████| 2/2 [00:00<00:00, 6517.95it/s]\n",
      "Labels: Encoding texts...: 100%|██████████| 2/2 [00:00<00:00, 28339.89it/s]"
     ]
    },
    {
     "name": "stdout",
     "output_type": "stream",
     "text": [
      "{'input_ids': tensor([[101, 316, 103, 315, 316, 102,   0],\n",
      "        [101, 304, 301, 308, 103, 311, 102]]), 'token_type_ids': tensor([[0, 0, 0, 0, 0, 0, 0],\n",
      "        [0, 0, 0, 0, 0, 0, 0]]), 'attention_mask': tensor([[1, 1, 1, 1, 1, 1, 0],\n",
      "        [1, 1, 1, 1, 1, 1, 1]]), 'labels': tensor([[101, 316, 301, 315, 316, 102,   0],\n",
      "        [101, 304, 301, 308, 308, 311, 102]])}\n",
      "[CLS]t[MASK]st[SEP][PAD]\n",
      "[CLS]test[SEP][PAD]\n"
     ]
    },
    {
     "name": "stderr",
     "output_type": "stream",
     "text": [
      "\n"
     ]
    }
   ],
   "source": [
    "from char_mlm import CharMLMDataset\n",
    "\n",
    "test = CharMLMDataset(\n",
    "    masked_texts=['t[MASK]st', 'hel[MASK]o'],\n",
    "    label_texts=['test', 'hello']\n",
    ")\n",
    "\n",
    "print(test.batch_encoding)\n",
    "print(test.tokenizer.decode(test[0]['input_ids']))\n",
    "print(test.tokenizer.decode(test[0]['labels']))\n"
   ]
  },
  {
   "cell_type": "markdown",
   "metadata": {},
   "source": [
    "## loading dataset"
   ]
  },
  {
   "cell_type": "code",
   "execution_count": 1,
   "metadata": {},
   "outputs": [
    {
     "name": "stderr",
     "output_type": "stream",
     "text": [
      "Inputs: Encoding texts...: 100%|██████████| 216308/216308 [00:06<00:00, 31928.20it/s]\n",
      "Labels: Encoding texts...: 100%|██████████| 216308/216308 [00:06<00:00, 34415.22it/s]\n",
      "Inputs: Encoding texts...: 100%|██████████| 19650/19650 [00:00<00:00, 32648.31it/s]\n",
      "Labels: Encoding texts...: 100%|██████████| 19650/19650 [00:00<00:00, 37978.96it/s]"
     ]
    },
    {
     "name": "stdout",
     "output_type": "stream",
     "text": [
      "train: 216308, test: 19650\n"
     ]
    },
    {
     "name": "stderr",
     "output_type": "stream",
     "text": [
      "\n"
     ]
    }
   ],
   "source": [
    "from char_mlm import CharMLMDataset\n",
    "from typing import List, Union\n",
    "import pandas as pd\n",
    "\n",
    "def mask_idx(text: str, idx: Union[int, List[int]]) -> str:\n",
    "    text = list(text)\n",
    "\n",
    "    if type(idx) == int: idx = [idx]\n",
    "    for i in idx:\n",
    "        text[i] = '[MASK]'\n",
    "\n",
    "    return ''.join(text)\n",
    "\n",
    "\n",
    "def mask_sents(sents_origin: List[str]):\n",
    "    sents, sents_masked = [], []\n",
    "    for sent in sents_origin:\n",
    "        for i in range(len(sent)):\n",
    "            sents_masked.append(mask_idx(sent, i))\n",
    "            sents.append(sent)\n",
    "    return sents_masked, sents\n",
    "\n",
    "sents_origin = pd.read_csv('./Data/en_setence.csv').clean.to_list()[:2000]\n",
    "test_sents_origin, train_sents_origin  = sents_origin[:len(sents_origin)//10], sents_origin[len(sents_origin)//10:]\n",
    "\n",
    "train = CharMLMDataset(*mask_sents(train_sents_origin))\n",
    "test = CharMLMDataset(*mask_sents(test_sents_origin))\n",
    "\n",
    "print(f'train: {len(train)}, test: {len(test)}')\n"
   ]
  },
  {
   "cell_type": "markdown",
   "metadata": {},
   "source": [
    "## Trainer & Model definition"
   ]
  },
  {
   "cell_type": "code",
   "execution_count": 2,
   "metadata": {},
   "outputs": [
    {
     "name": "stdout",
     "output_type": "stream",
     "text": [
      "model: cuda:0\n",
      "trainer: cuda:0\n"
     ]
    }
   ],
   "source": [
    "from transformers import Trainer, BertForMaskedLM, BertConfig, TrainingArguments\n",
    "import os\n",
    "from datetime import datetime\n",
    "import torch\n",
    "import torch_ort\n",
    "\n",
    "# os.environ['CUDA_VISIBLE_DEVICES'] = '0'\n",
    "\n",
    "MODEL_DIR = os.path.join(\n",
    "    './models', '2021-11-23-20-10-16' # datetime.now().strftime(\"%Y-%m-%d-%H-%M-%S\")\n",
    ")\n",
    "\n",
    "model_config = BertConfig(\n",
    "    max_position_embeddings=1024,\n",
    ")\n",
    "model = BertForMaskedLM(model_config)\n",
    "# model = torch_ort.ORTModule(model)\n",
    "# model.to(torch.device('cuda:0')) # model default is cuda:0\n",
    "\n",
    "training_args = TrainingArguments(\n",
    "    output_dir=MODEL_DIR,\n",
    "    num_train_epochs=10,\n",
    "    # evaluation_strategy='epoch',\n",
    "    logging_dir=os.path.join(MODEL_DIR, 'tensorboard'),\n",
    "    logging_strategy='epoch',\n",
    "    log_level='warning',\n",
    "    save_strategy='epoch'\n",
    ")\n",
    "training_args._n_gpu = 1\n",
    "\n",
    "trainer = Trainer(\n",
    "    model,\n",
    "    training_args,\n",
    "    train_dataset=train,\n",
    ")\n",
    "\n",
    "print('model:', model.device)\n",
    "print('trainer:', training_args.device)\n"
   ]
  },
  {
   "cell_type": "markdown",
   "metadata": {},
   "source": [
    "## training"
   ]
  },
  {
   "cell_type": "code",
   "execution_count": 3,
   "metadata": {},
   "outputs": [
    {
     "data": {
      "application/vnd.jupyter.widget-view+json": {
       "model_id": "f6556b5142054206928cf3bb329759a4",
       "version_major": 2,
       "version_minor": 0
      },
      "text/plain": [
       "0it [00:00, ?it/s]"
      ]
     },
     "metadata": {},
     "output_type": "display_data"
    },
    {
     "data": {
      "text/html": [
       "\n",
       "    <div>\n",
       "      \n",
       "      <progress value='55138' max='270390' style='width:300px; height:20px; vertical-align: middle;'></progress>\n",
       "      [ 55138/270390 4:05:36 < 31:21:34, 1.91 it/s, Epoch 2.04/10]\n",
       "    </div>\n",
       "    <table border=\"1\" class=\"dataframe\">\n",
       "  <thead>\n",
       "    <tr style=\"text-align: left;\">\n",
       "      <th>Step</th>\n",
       "      <th>Training Loss</th>\n",
       "    </tr>\n",
       "  </thead>\n",
       "  <tbody>\n",
       "    <tr>\n",
       "      <td>54078</td>\n",
       "      <td>0.003300</td>\n",
       "    </tr>\n",
       "  </tbody>\n",
       "</table><p>"
      ],
      "text/plain": [
       "<IPython.core.display.HTML object>"
      ]
     },
     "metadata": {},
     "output_type": "display_data"
    }
   ],
   "source": [
    "trainer.train(resume_from_checkpoint=True)\n",
    "trainer.save_model()\n",
    "test_result = trainer.evaluate(test)\n",
    "print(test_result)"
   ]
  },
  {
   "cell_type": "markdown",
   "metadata": {},
   "source": [
    "## training result on tensorboard"
   ]
  },
  {
   "cell_type": "code",
   "execution_count": null,
   "metadata": {},
   "outputs": [],
   "source": [
    "%tensorboard --logdir models/2021-11-22-20-30-31/tensorboard/"
   ]
  },
  {
   "cell_type": "markdown",
   "metadata": {},
   "source": [
    "# prediction"
   ]
  },
  {
   "cell_type": "code",
   "execution_count": null,
   "metadata": {},
   "outputs": [],
   "source": [
    "from char_mlm import CharMLMDataset, CharTokenizer\n",
    "from transformers import AutoModelForMaskedLM\n",
    "model = AutoModelForMaskedLM.from_pretrained(\n",
    "    './models/2021-11-22-20-30-31/checkpoint-31566')\n",
    "tokenizer = CharTokenizer()\n"
   ]
  },
  {
   "cell_type": "code",
   "execution_count": null,
   "metadata": {},
   "outputs": [
    {
     "name": "stderr",
     "output_type": "stream",
     "text": [
      "Encoding texts...: 100%|██████████| 1/1 [00:00<00:00, 9425.40it/s]"
     ]
    },
    {
     "name": "stdout",
     "output_type": "stream",
     "text": [
      "inputs:\n",
      "   [MASK]ello there!\n",
      "outputs:\n",
      "   [CLS]mello tmerem[SEP]\n"
     ]
    },
    {
     "name": "stderr",
     "output_type": "stream",
     "text": [
      "\n"
     ]
    }
   ],
   "source": [
    "import torch\n",
    "inputs = ['[MASK]ello there!']\n",
    "outputs = tokenizer.batch_decode(torch.argmax(model(**tokenizer(inputs))['logits'], -1))\n",
    "print('inputs:')\n",
    "print('\\n'.join(['   ' + i for i in inputs]))\n",
    "print('outputs:')\n",
    "print('\\n'.join(['   ' + o.replace(\"[PAD]\", \"\") for o in outputs]))\n"
   ]
  },
  {
   "cell_type": "code",
   "execution_count": null,
   "metadata": {},
   "outputs": [],
   "source": []
  }
 ],
 "metadata": {
  "interpreter": {
   "hash": "492feaf682b21470e654bff857dc2eb7fc8bb0ba6ce9addd9f7af7a048d541df"
  },
  "kernelspec": {
   "display_name": "Python 3.9.7 64-bit ('venv': conda)",
   "language": "python",
   "name": "python3"
  },
  "language_info": {
   "codemirror_mode": {
    "name": "ipython",
    "version": 3
   },
   "file_extension": ".py",
   "mimetype": "text/x-python",
   "name": "python",
   "nbconvert_exporter": "python",
   "pygments_lexer": "ipython3",
   "version": "3.9.7"
  },
  "orig_nbformat": 4
 },
 "nbformat": 4,
 "nbformat_minor": 2
}
