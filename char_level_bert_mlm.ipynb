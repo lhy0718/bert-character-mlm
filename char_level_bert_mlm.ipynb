{
 "cells": [
  {
   "cell_type": "code",
   "execution_count": 1,
   "metadata": {},
   "outputs": [],
   "source": [
    "from transformers import BertTokenizer\n",
    "import torch\n",
    "from torch.nn import functional as F\n",
    "\n",
    "DEIVCE = torch.device('cuda:0')\n",
    "\n",
    "tokenizer = BertTokenizer.from_pretrained('bert-base-uncased')"
   ]
  },
  {
   "cell_type": "code",
   "execution_count": 2,
   "metadata": {},
   "outputs": [
    {
     "data": {
      "text/plain": [
       "{'input_ids': tensor([[  101,  4748,  2546,  1040,  2546,  4748,  1042, 20952,  1040,   102],\n",
       "        [  101,  4748,  2546,  4830,  7011,   102,     0,     0,     0,     0]]), 'token_type_ids': tensor([[0, 0, 0, 0, 0, 0, 0, 0, 0, 0],\n",
       "        [0, 0, 0, 0, 0, 0, 0, 0, 0, 0]]), 'attention_mask': tensor([[1, 1, 1, 1, 1, 1, 1, 1, 1, 1],\n",
       "        [1, 1, 1, 1, 1, 1, 0, 0, 0, 0]])}"
      ]
     },
     "execution_count": 2,
     "metadata": {},
     "output_type": "execute_result"
    }
   ],
   "source": [
    "input = tokenizer(['adf df ad fdf d', 'adf dafa'], padding=True, return_tensors='pt')\n",
    "input.to('cpu')"
   ]
  },
  {
   "cell_type": "markdown",
   "metadata": {},
   "source": [
    "# Training"
   ]
  },
  {
   "cell_type": "markdown",
   "metadata": {},
   "source": [
    "## Trainer & Model definition"
   ]
  },
  {
   "cell_type": "code",
   "execution_count": null,
   "metadata": {},
   "outputs": [],
   "source": [
    "from char_mlm import CharTokenizer\n",
    "from transformers import Trainer, BertForMaskedLM, BertConfig, TrainingArguments\n",
    "import os\n",
    "from datetime import datetime\n",
    "\n",
    "MODEL_DIR = os.path.join(\n",
    "    './models', datetime.now().strftime(\"%Y-%m-%d-%H-%M-%S\")\n",
    ")\n",
    "\n",
    "tokenizer = CharTokenizer()\n",
    "model_config = BertConfig(vocab_size = len(tokenizer.SPECIAL_TOKENS_ATTRIBUTES) + 128)\n",
    "model = BertForMaskedLM(model_config)\n",
    "\n",
    "training_args = TrainingArguments(\n",
    "    output_dir=MODEL_DIR\n",
    ")\n",
    "\n",
    "trainer = Trainer(\n",
    "    model,\n",
    "    training_args\n",
    ")\n"
   ]
  },
  {
   "cell_type": "markdown",
   "metadata": {},
   "source": [
    "## Do train"
   ]
  },
  {
   "cell_type": "code",
   "execution_count": null,
   "metadata": {},
   "outputs": [],
   "source": [
    "trainer.train()"
   ]
  },
  {
   "cell_type": "markdown",
   "metadata": {},
   "source": [
    "# prediction"
   ]
  },
  {
   "cell_type": "code",
   "execution_count": 7,
   "metadata": {},
   "outputs": [
    {
     "name": "stderr",
     "output_type": "stream",
     "text": [
      "Some weights of the model checkpoint at bert-base-uncased were not used when initializing BertForMaskedLM: ['cls.seq_relationship.bias', 'cls.seq_relationship.weight']\n",
      "- This IS expected if you are initializing BertForMaskedLM from the checkpoint of a model trained on another task or with another architecture (e.g. initializing a BertForSequenceClassification model from a BertForPreTraining model).\n",
      "- This IS NOT expected if you are initializing BertForMaskedLM from the checkpoint of a model that you expect to be exactly identical (initializing a BertForSequenceClassification model from a BertForSequenceClassification model).\n"
     ]
    },
    {
     "name": "stdout",
     "output_type": "stream",
     "text": [
      "h̠llo\n",
      "h͍llo\n",
      "hܖllo\n",
      "h܈llo\n",
      "ḩllo\n"
     ]
    }
   ],
   "source": [
    "from transformers import BertForMaskedLM\n",
    "from custom_tokenizers import CharTokenizer\n",
    "\n",
    "tokenizer = CharTokenizer()\n",
    "\n",
    "DEIVCE = torch.device('cuda:0')\n",
    "\n",
    "def mask_nonascii(text: str) -> str:\n",
    "   return ''.join([char if ord(char) < 128 else '[MASK]' for char in text])\n",
    "\n",
    "\n",
    "def mask_idx(text: str, idx: int) -> str:\n",
    "   text = list(text)\n",
    "   text[idx] = '[MASK]'\n",
    "   return ''.join(text)\n",
    "\n",
    "\n",
    "sents = ['hello']\n",
    "masked_sents = [mask_idx(s, 1) for s in sents]\n",
    "\n",
    "# prediction\n",
    "inputs = tokenizer(masked_sents).to(DEIVCE)\n",
    "labels = tokenizer(sents).to(DEIVCE)[\"input_ids\"]\n",
    "\n",
    "model = BertForMaskedLM.from_pretrained('bert-base-uncased').to(DEIVCE)\n",
    "outputs = model(**inputs)\n",
    "loss = outputs.loss\n",
    "logits = outputs.logits\n",
    "\n",
    "for i in range(len(sents)):\n",
    "   mask_index = torch.where(inputs[\"input_ids\"][i] == tokenizer.mask_token_id)\n",
    "   softmax = F.softmax(logits, dim=-1)\n",
    "   mask_word = softmax[0, mask_index, :]\n",
    "   top_5 = torch.topk(mask_word, 5, dim=1)[1][0]\n",
    "   for token in top_5:\n",
    "      word = tokenizer.decode([token])\n",
    "      new_sentences = masked_sents[i].replace(tokenizer.mask_token, word)\n",
    "      print(new_sentences)\n"
   ]
  }
 ],
 "metadata": {
  "interpreter": {
   "hash": "492feaf682b21470e654bff857dc2eb7fc8bb0ba6ce9addd9f7af7a048d541df"
  },
  "kernelspec": {
   "display_name": "Python 3.9.7 64-bit ('venv': conda)",
   "language": "python",
   "name": "python3"
  },
  "language_info": {
   "codemirror_mode": {
    "name": "ipython",
    "version": 3
   },
   "file_extension": ".py",
   "mimetype": "text/x-python",
   "name": "python",
   "nbconvert_exporter": "python",
   "pygments_lexer": "ipython3",
   "version": "3.9.7"
  },
  "orig_nbformat": 4
 },
 "nbformat": 4,
 "nbformat_minor": 2
}
