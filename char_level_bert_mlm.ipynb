{
 "cells": [
  {
   "cell_type": "markdown",
   "metadata": {},
   "source": [
    "# Pretraining"
   ]
  },
  {
   "cell_type": "markdown",
   "metadata": {
    "jp-MarkdownHeadingCollapsed": true,
    "tags": []
   },
   "source": [
    "## module test"
   ]
  },
  {
   "cell_type": "code",
   "execution_count": null,
   "metadata": {},
   "outputs": [],
   "source": [
    "from char_mlm import CharMLMDataset\n",
    "\n",
    "test = CharMLMDataset(\n",
    "    masked_texts=['t[MASK]st', 'hel[MASK]o'],\n",
    "    label_texts=['test', 'hello']\n",
    ")\n",
    "\n",
    "print(test.batch_encoding)\n",
    "print(test.tokenizer.decode(test[0]['input_ids']))\n",
    "print(test.tokenizer.decode(test[0]['labels']))\n"
   ]
  },
  {
   "cell_type": "markdown",
   "metadata": {},
   "source": [
    "## Loading dataset"
   ]
  },
  {
   "cell_type": "code",
   "execution_count": null,
   "metadata": {},
   "outputs": [],
   "source": [
    "from char_mlm import CharMLMDataset, mask_sents\n",
    "import pandas as pd\n",
    "\n",
    "MAX_SEQUENCE = 830\n",
    "SAMPLE_SIZE = 2000\n",
    "\n",
    "sents_origin = [\n",
    "    s[:MAX_SEQUENCE] for s in\n",
    "    pd.read_csv('./Data/en_setence.csv').clean.to_list()[:SAMPLE_SIZE]\n",
    "]\n",
    "\n",
    "test_sents_origin, train_sents_origin  = sents_origin[:len(sents_origin)//10], sents_origin[len(sents_origin)//10:]\n",
    "train = CharMLMDataset(*mask_sents(train_sents_origin))\n",
    "test = CharMLMDataset(*mask_sents(test_sents_origin))\n",
    "\n",
    "print(f'train: {len(train)}, test: {len(test)}')\n"
   ]
  },
  {
   "cell_type": "markdown",
   "metadata": {},
   "source": [
    "## Trainer & Model definition"
   ]
  },
  {
   "cell_type": "code",
   "execution_count": null,
   "metadata": {},
   "outputs": [],
   "source": [
    "from transformers import Trainer, BertForMaskedLM, BertConfig, TrainingArguments\n",
    "import os\n",
    "from datetime import datetime\n",
    "import torch\n",
    "import torch_ort\n",
    "import gc\n",
    "\n",
    "# WIPE MEMORY\n",
    "# gc.collect()\n",
    "# torch.cuda.empty_cache()\n",
    "\n",
    "# os.environ['CUDA_VISIBLE_DEVICES'] = '0'\n",
    "\n",
    "MODEL_DIR = os.path.join(\n",
    "    './models', '2021-11-24-19-33-20' # datetime.now().strftime(\"%Y-%m-%d-%H-%M-%S\")\n",
    ")\n",
    "\n",
    "model_config = BertConfig(\n",
    "    max_position_embeddings=1024,\n",
    ")\n",
    "model = BertForMaskedLM(model_config)\n",
    "# model = torch_ort.ORTModule(model)\n",
    "# model.to(torch.device('cuda:0')) # model default is cuda:0\n",
    "\n",
    "training_args = TrainingArguments(\n",
    "    output_dir=MODEL_DIR,\n",
    "    num_train_epochs=10,\n",
    "    # evaluation_strategy='epoch',\n",
    "    logging_dir=os.path.join(MODEL_DIR, 'tensorboard'),\n",
    "    logging_strategy='epoch',\n",
    "    log_level='warning',\n",
    "    save_strategy='epoch'\n",
    ")\n",
    "training_args._n_gpu = 1\n",
    "\n",
    "trainer = Trainer(\n",
    "    model,\n",
    "    training_args,\n",
    "    train_dataset=train,\n",
    ")\n",
    "\n",
    "print('model:', model.device)\n",
    "print('trainer:', training_args.device)\n"
   ]
  },
  {
   "cell_type": "markdown",
   "metadata": {},
   "source": [
    "## Pretraining"
   ]
  },
  {
   "cell_type": "code",
   "execution_count": null,
   "metadata": {},
   "outputs": [],
   "source": [
    "trainer.train(resume_from_checkpoint=True)\n",
    "trainer.save_model()\n",
    "test_result = trainer.evaluate(test)\n",
    "print(test_result)"
   ]
  },
  {
   "cell_type": "markdown",
   "metadata": {},
   "source": [
    "## Training result on tensorboard"
   ]
  },
  {
   "cell_type": "code",
   "execution_count": null,
   "metadata": {},
   "outputs": [],
   "source": [
    "%load_ext tensorboard\n",
    "%tensorboard --logdir models/2021-11-24-19-33-20/tensorboard/ --host 0.0.0.0"
   ]
  },
  {
   "cell_type": "markdown",
   "metadata": {},
   "source": [
    "# Prediction"
   ]
  },
  {
   "cell_type": "code",
   "execution_count": null,
   "metadata": {},
   "outputs": [],
   "source": [
    "from char_mlm import CharMLMDataset, CharTokenizer\n",
    "from transformers import AutoModelForMaskedLM\n",
    "model = AutoModelForMaskedLM.from_pretrained(\n",
    "    './models/2021-11-22-20-30-31/checkpoint-31566')\n",
    "tokenizer = CharTokenizer()\n"
   ]
  },
  {
   "cell_type": "code",
   "execution_count": null,
   "metadata": {},
   "outputs": [],
   "source": [
    "import torch\n",
    "inputs = ['[MASK]ello there!']\n",
    "outputs = tokenizer.batch_decode(torch.argmax(model(**tokenizer(inputs))['logits'], -1))\n",
    "print('inputs:')\n",
    "print('\\n'.join(['   ' + i for i in inputs]))\n",
    "print('outputs:')\n",
    "print('\\n'.join(['   ' + o.replace(\"[PAD]\", \"\") for o in outputs]))\n"
   ]
  },
  {
   "cell_type": "markdown",
   "metadata": {},
   "source": [
    "# Finetuning"
   ]
  },
  {
   "cell_type": "markdown",
   "metadata": {},
   "source": [
    "## Loading dataset"
   ]
  },
  {
   "cell_type": "code",
   "execution_count": null,
   "metadata": {},
   "outputs": [],
   "source": [
    "from char_mlm import CharMLMDataset, mask_sents\n",
    "import pandas as pd\n",
    "\n",
    "MAX_SEQUENCE = 830\n",
    "SAMPLE_SIZE = 2000\n",
    "\n",
    "sents_origin = [\n",
    "    s[:MAX_SEQUENCE] for s in\n",
    "    pd.read_csv('./Data/homo_dic_OCR.csv').dic.to_list()[:SAMPLE_SIZE]\n",
    "]\n",
    "\n",
    "train = CharMLMDataset(*mask_sents(sents_origin))\n",
    "\n",
    "print(f'train: {len(train)}')\n"
   ]
  },
  {
   "cell_type": "markdown",
   "metadata": {},
   "source": [
    "## Defining model & trainer and finetuning"
   ]
  },
  {
   "cell_type": "code",
   "execution_count": null,
   "metadata": {},
   "outputs": [],
   "source": [
    "from transformers import Trainer, TrainingArguments, AutoModelForMaskedLM\n",
    "import os\n",
    "from datetime import datetime\n",
    "import torch\n",
    "import gc\n",
    "\n",
    "# WIPE MEMORY\n",
    "# gc.collect()\n",
    "# torch.cuda.empty_cache()\n",
    "\n",
    "OUT_DIR = os.path.join(\n",
    "    './models', datetime.now().strftime(\"%Y-%m-%d-%H-%M-%S\")\n",
    ")\n",
    "\n",
    "model = AutoModelForMaskedLM.from_pretrained(\n",
    "    'models/2021-11-24-19-33-20/checkpoint-111010'\n",
    ")\n",
    "\n",
    "training_args = TrainingArguments(\n",
    "    output_dir=OUT_DIR,\n",
    "    num_train_epochs=10,\n",
    "    logging_dir=os.path.join(OUT_DIR, 'tensorboard'),\n",
    "    logging_strategy='epoch',\n",
    "    log_level='warning',\n",
    "    save_strategy='epoch'\n",
    ")\n",
    "training_args._n_gpu = 1\n",
    "\n",
    "trainer = Trainer(\n",
    "    model,\n",
    "    training_args,\n",
    "    train_dataset=train,\n",
    ")\n",
    "\n",
    "print('model:', model.device)\n",
    "print('trainer:', training_args.device)\n",
    "\n",
    "trainer.train()\n",
    "trainer.save_model()\n"
   ]
  },
  {
   "cell_type": "code",
   "execution_count": null,
   "metadata": {},
   "outputs": [],
   "source": []
  }
 ],
 "metadata": {
  "interpreter": {
   "hash": "492feaf682b21470e654bff857dc2eb7fc8bb0ba6ce9addd9f7af7a048d541df"
  },
  "kernelspec": {
   "display_name": "Python 3 (ipykernel)",
   "language": "python",
   "name": "python3"
  },
  "language_info": {
   "codemirror_mode": {
    "name": "ipython",
    "version": 3
   },
   "file_extension": ".py",
   "mimetype": "text/x-python",
   "name": "python",
   "nbconvert_exporter": "python",
   "pygments_lexer": "ipython3",
   "version": "3.9.7"
  }
 },
 "nbformat": 4,
 "nbformat_minor": 4
}
