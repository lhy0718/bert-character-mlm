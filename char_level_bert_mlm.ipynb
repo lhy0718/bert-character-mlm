{
 "cells": [
  {
   "cell_type": "markdown",
   "metadata": {},
   "source": [
    "# Training"
   ]
  },
  {
   "cell_type": "markdown",
   "metadata": {},
   "source": [
    "## module test"
   ]
  },
  {
   "cell_type": "code",
   "execution_count": 1,
   "metadata": {},
   "outputs": [
    {
     "name": "stderr",
     "output_type": "stream",
     "text": [
      "Inputs: Encoding texts...: 100%|██████████| 2/2 [00:00<00:00, 6781.41it/s]\n",
      "Labels: Encoding texts...: 100%|██████████| 2/2 [00:00<00:00, 33288.13it/s]"
     ]
    },
    {
     "name": "stdout",
     "output_type": "stream",
     "text": [
      "{'input_ids': tensor([[101, 316, 103, 315, 316, 102,   0],\n",
      "        [101, 304, 301, 308, 103, 311, 102]]), 'token_type_ids': tensor([[0, 0, 0, 0, 0, 0, 0],\n",
      "        [0, 0, 0, 0, 0, 0, 0]]), 'attention_mask': tensor([[1, 1, 1, 1, 1, 1, 0],\n",
      "        [1, 1, 1, 1, 1, 1, 1]]), 'labels': tensor([[101, 316, 301, 315, 316, 102,   0],\n",
      "        [101, 304, 301, 308, 308, 311, 102]])}\n",
      "[CLS]t[MASK]st[SEP][PAD]\n",
      "[CLS]test[SEP][PAD]\n"
     ]
    },
    {
     "name": "stderr",
     "output_type": "stream",
     "text": [
      "\n"
     ]
    }
   ],
   "source": [
    "from char_mlm import CharMLMDataset\n",
    "\n",
    "test = CharMLMDataset(\n",
    "    masked_texts=['t[MASK]st', 'hel[MASK]o'],\n",
    "    label_texts=['test', 'hello']\n",
    ")\n",
    "\n",
    "print(test.batch_encoding)\n",
    "print(test.tokenizer.decode(test[0]['input_ids']))\n",
    "print(test.tokenizer.decode(test[0]['labels']))\n"
   ]
  },
  {
   "cell_type": "markdown",
   "metadata": {},
   "source": [
    "## loading dataset"
   ]
  },
  {
   "cell_type": "code",
   "execution_count": 2,
   "metadata": {},
   "outputs": [
    {
     "name": "stderr",
     "output_type": "stream",
     "text": [
      "Inputs: Encoding texts...: 100%|██████████| 84176/84176 [00:02<00:00, 31167.12it/s]\n",
      "Labels: Encoding texts...: 100%|██████████| 84176/84176 [00:02<00:00, 34976.69it/s]\n",
      "Inputs: Encoding texts...: 100%|██████████| 18235/18235 [00:00<00:00, 30546.79it/s]\n",
      "Labels: Encoding texts...: 100%|██████████| 18235/18235 [00:00<00:00, 34067.54it/s]\n",
      "Inputs: Encoding texts...: 100%|██████████| 17500/17500 [00:00<00:00, 34876.83it/s]\n",
      "Labels: Encoding texts...: 100%|██████████| 17500/17500 [00:00<00:00, 39836.51it/s]"
     ]
    },
    {
     "name": "stdout",
     "output_type": "stream",
     "text": [
      "train: 84176, dev: 18235, test: 17500\n"
     ]
    },
    {
     "name": "stderr",
     "output_type": "stream",
     "text": [
      "\n"
     ]
    }
   ],
   "source": [
    "from char_mlm import CharMLMDataset\n",
    "from typing import List, Union\n",
    "import pandas as pd\n",
    "\n",
    "\n",
    "def split_by_ratio(\n",
    "    dataset: List[any], ratio: List[int],\n",
    ") -> List[any]:\n",
    "    ratio = [0, *ratio]\n",
    "    u = len(dataset) // sum(ratio)\n",
    "    accumulated_length = [\n",
    "        sum(ratio[:y]) * u for y in range(1, len(ratio) + 1)\n",
    "    ]\n",
    "    splited_dataset = [\n",
    "        dataset[accumulated_length[i]:accumulated_length[i+1]]\n",
    "        for i in range(len(accumulated_length)-1)\n",
    "    ]\n",
    "    splited_dataset[0] += (dataset[accumulated_length[-1]:])\n",
    "    return splited_dataset\n",
    "\n",
    "\n",
    "def mask_idx(text: str, idx: Union[int, List[int]]) -> str:\n",
    "    text = list(text)\n",
    "\n",
    "    if type(idx) == int: idx = [idx]\n",
    "    for i in idx:\n",
    "        text[i] = '[MASK]'\n",
    "\n",
    "    return ''.join(text)\n",
    "\n",
    "\n",
    "def mask_sents(sents_origin: List[str]):\n",
    "    sents, sents_masked = [], []\n",
    "    for sent in sents_origin:\n",
    "        for i in range(len(sent)):\n",
    "            sents_masked.append(mask_idx(sent, i))\n",
    "            sents.append(sent)\n",
    "    return sents_masked, sents\n",
    "\n",
    "sents_origin = pd.read_csv('./Data/en_setence.csv').setence.to_list()[:1000]\n",
    "train_sents_origin, dev_sents_origin, test_sents_origin = split_by_ratio(sents_origin, [5, 1, 1])\n",
    "\n",
    "train = CharMLMDataset(*mask_sents(train_sents_origin))\n",
    "dev = CharMLMDataset(*mask_sents(dev_sents_origin))\n",
    "test = CharMLMDataset(*mask_sents(test_sents_origin))\n",
    "\n",
    "print(f'train: {len(train)}, dev: {len(dev)}, test: {len(test)}')\n"
   ]
  },
  {
   "cell_type": "markdown",
   "metadata": {},
   "source": [
    "## Trainer & Model definition"
   ]
  },
  {
   "cell_type": "code",
   "execution_count": 3,
   "metadata": {},
   "outputs": [],
   "source": [
    "from transformers import Trainer, BertForMaskedLM, BertConfig, TrainingArguments\n",
    "import os\n",
    "from datetime import datetime\n",
    "import torch\n",
    "import torch_ort\n",
    "\n",
    "os.environ['CUDA_VISIBLE_DEVICES'] = '0'\n",
    "DEVICE = torch.device('cuda:0')\n",
    "\n",
    "MODEL_DIR = os.path.join(\n",
    "    './models', datetime.now().strftime(\"%Y-%m-%d-%H-%M-%S\")\n",
    ")\n",
    "\n",
    "model_config = BertConfig(\n",
    "    max_position_embeddings=1024,\n",
    ")\n",
    "model = BertForMaskedLM(model_config)\n",
    "model = torch_ort.ORTModule(model)\n",
    "model.to(DEVICE)\n",
    "\n",
    "training_args = TrainingArguments(\n",
    "    output_dir=MODEL_DIR,\n",
    "    num_train_epochs=8,\n",
    "    evaluation_strategy='epoch',\n",
    "    logging_dir=os.path.join(MODEL_DIR, 'tensorboard'),\n",
    "    logging_strategy='epoch',\n",
    "    log_level='warning',\n",
    "    save_strategy='epoch'\n",
    ")\n",
    "\n",
    "trainer = Trainer(\n",
    "    model,\n",
    "    training_args,\n",
    "    train_dataset=train,\n",
    "    eval_dataset=dev,\n",
    ")\n"
   ]
  },
  {
   "cell_type": "markdown",
   "metadata": {},
   "source": [
    "## train"
   ]
  },
  {
   "cell_type": "code",
   "execution_count": 5,
   "metadata": {},
   "outputs": [
    {
     "data": {
      "text/html": [
       "\n",
       "    <div>\n",
       "      \n",
       "      <progress value='19789' max='42088' style='width:300px; height:20px; vertical-align: middle;'></progress>\n",
       "      [19789/42088 3:30:10 < 3:56:51, 1.57 it/s, Epoch 3.76/8]\n",
       "    </div>\n",
       "    <table border=\"1\" class=\"dataframe\">\n",
       "  <thead>\n",
       "    <tr style=\"text-align: left;\">\n",
       "      <th>Epoch</th>\n",
       "      <th>Training Loss</th>\n",
       "      <th>Validation Loss</th>\n",
       "    </tr>\n",
       "  </thead>\n",
       "  <tbody>\n",
       "    <tr>\n",
       "      <td>1</td>\n",
       "      <td>0.005500</td>\n",
       "      <td>0.004031</td>\n",
       "    </tr>\n",
       "    <tr>\n",
       "      <td>2</td>\n",
       "      <td>0.004900</td>\n",
       "      <td>0.003887</td>\n",
       "    </tr>\n",
       "    <tr>\n",
       "      <td>3</td>\n",
       "      <td>0.004100</td>\n",
       "      <td>0.005339</td>\n",
       "    </tr>\n",
       "  </tbody>\n",
       "</table><p>"
      ],
      "text/plain": [
       "<IPython.core.display.HTML object>"
      ]
     },
     "metadata": {},
     "output_type": "display_data"
    }
   ],
   "source": [
    "trainer.train(resume_from_checkpoint=True)\n",
    "trainer.save_model()\n",
    "test_result = trainer.evaluate(test)\n",
    "print(test_result)"
   ]
  },
  {
   "cell_type": "code",
   "execution_count": null,
   "metadata": {},
   "outputs": [],
   "source": []
  },
  {
   "cell_type": "markdown",
   "metadata": {},
   "source": [
    "## train result on tensorboard"
   ]
  },
  {
   "cell_type": "code",
   "execution_count": null,
   "metadata": {},
   "outputs": [],
   "source": [
    "%tensorboard --logdir models/2021-11-22-20-30-31/tensorboard/"
   ]
  },
  {
   "cell_type": "markdown",
   "metadata": {},
   "source": [
    "# prediction"
   ]
  },
  {
   "cell_type": "code",
   "execution_count": null,
   "metadata": {},
   "outputs": [],
   "source": []
  }
 ],
 "metadata": {
  "interpreter": {
   "hash": "492feaf682b21470e654bff857dc2eb7fc8bb0ba6ce9addd9f7af7a048d541df"
  },
  "kernelspec": {
   "display_name": "Python 3.9.7 64-bit ('venv': conda)",
   "language": "python",
   "name": "python3"
  },
  "language_info": {
   "codemirror_mode": {
    "name": "ipython",
    "version": 3
   },
   "file_extension": ".py",
   "mimetype": "text/x-python",
   "name": "python",
   "nbconvert_exporter": "python",
   "pygments_lexer": "ipython3",
   "version": "3.9.7"
  },
  "orig_nbformat": 4
 },
 "nbformat": 4,
 "nbformat_minor": 2
}
