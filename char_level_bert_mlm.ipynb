{
 "cells": [
  {
   "cell_type": "code",
   "execution_count": null,
   "metadata": {},
   "outputs": [],
   "source": [
    "from transformers import BertTokenizer\n",
    "import torch\n",
    "from torch.nn import functional as F\n",
    "\n",
    "DEIVCE = torch.device('cuda:0')\n",
    "\n",
    "tokenizer = BertTokenizer.from_pretrained('bert-base-uncased')"
   ]
  },
  {
   "cell_type": "code",
   "execution_count": null,
   "metadata": {},
   "outputs": [],
   "source": [
    "input = tokenizer(['adf df ad fdf d', 'adf dafa'], padding=True, return_tensors='pt')\n",
    "input.to('cpu')"
   ]
  },
  {
   "cell_type": "markdown",
   "metadata": {},
   "source": [
    "# Training"
   ]
  },
  {
   "cell_type": "markdown",
   "metadata": {},
   "source": [
    "## module test"
   ]
  },
  {
   "cell_type": "code",
   "execution_count": null,
   "metadata": {},
   "outputs": [],
   "source": [
    "from char_mlm import CharMLMDataset, CharTokenizer\n",
    "\n",
    "test = CharMLMDataset(\n",
    "    masked_texts=['t[MASK]st', 'hel[MASK]o'],\n",
    "    label_texts=['test', 'hello']\n",
    ")\n",
    "\n",
    "print(test.batch_encoding)\n",
    "print(test.tokenizer.decode(test[0]['input_ids']))\n",
    "print(test.tokenizer.decode(test[0]['labels']))\n"
   ]
  },
  {
   "cell_type": "markdown",
   "metadata": {},
   "source": [
    "## loading dataset"
   ]
  },
  {
   "cell_type": "code",
   "execution_count": null,
   "metadata": {},
   "outputs": [],
   "source": [
    "from char_mlm import CharMLMDataset\n",
    "import pandas as pd\n",
    "from torch.utils.data.dataset import random_split\n",
    "from random import randrange\n",
    "\n",
    "\n",
    "def mask_idx(text: str, idx: int) -> str:\n",
    "   text = list(text)\n",
    "   text[idx] = '[MASK]'\n",
    "   return ''.join(text)\n",
    "\n",
    "\n",
    "sents = pd.read_csv('./Data/en_setence.csv').setence.to_list()[:100000]\n",
    "sents_masked = [mask_idx(s, randrange(len(s))) for s in sents]\n",
    "\n",
    "data = CharMLMDataset(sents_masked, sents)\n",
    "\n",
    "train, dev, test = random_split(\n",
    "    data, [len(data)//6 * 4, len(data)//6, len(data)//6 + len(data) % 6]\n",
    ")\n",
    "train_dataset, dev_dataset, test_dataset = train.dataset, dev.dataset, test.dataset\n"
   ]
  },
  {
   "cell_type": "markdown",
   "metadata": {},
   "source": [
    "## Trainer & Model definition"
   ]
  },
  {
   "cell_type": "code",
   "execution_count": null,
   "metadata": {},
   "outputs": [],
   "source": [
    "from transformers import Trainer, BertForMaskedLM, BertConfig, TrainingArguments\n",
    "import os\n",
    "from datetime import datetime\n",
    "\n",
    "os.environ['CUDA_VISIBLE_DEVICES'] = '0'\n",
    "\n",
    "MODEL_DIR = os.path.join(\n",
    "    './models', datetime.now().strftime(\"%Y-%m-%d-%H-%M-%S\")\n",
    ")\n",
    "\n",
    "model_config = BertConfig(\n",
    "    max_position_embeddings=1024,\n",
    ")\n",
    "model = BertForMaskedLM(model_config)\n",
    "\n",
    "training_args = TrainingArguments(\n",
    "    output_dir=MODEL_DIR,\n",
    "    num_train_epochs=100,\n",
    "    logging_dir=os.path.join(MODEL_DIR, 'tensorboard'),\n",
    "    logging_strategy='epoch',\n",
    "    evaluation_strategy='epoch'\n",
    ")\n",
    "\n",
    "trainer = Trainer(\n",
    "    model,\n",
    "    training_args,\n",
    "    train_dataset=train.dataset,\n",
    "    eval_dataset=dev.dataset,\n",
    ")\n"
   ]
  },
  {
   "cell_type": "markdown",
   "metadata": {},
   "source": [
    "## train"
   ]
  },
  {
   "cell_type": "code",
   "execution_count": null,
   "metadata": {},
   "outputs": [],
   "source": [
    "trainer.train()\n",
    "trainer.save_model()"
   ]
  },
  {
   "cell_type": "markdown",
   "metadata": {},
   "source": [
    "# prediction"
   ]
  },
  {
   "cell_type": "code",
   "execution_count": null,
   "metadata": {},
   "outputs": [],
   "source": [
    "from transformers import BertForMaskedLM\n",
    "from custom_tokenizers import CharTokenizer\n",
    "\n",
    "tokenizer = CharTokenizer()\n",
    "\n",
    "DEIVCE = torch.device('cuda:0')\n",
    "\n",
    "def mask_idx(text: str, idx: int) -> str:\n",
    "   text = list(text)\n",
    "   text[idx] = '[MASK]'\n",
    "   return ''.join(text)\n",
    "\n",
    "\n",
    "sents = ['hello']\n",
    "masked_sents = [mask_idx(s, 1) for s in sents]\n",
    "\n",
    "# prediction\n",
    "inputs = tokenizer(masked_sents).to(DEIVCE)\n",
    "labels = tokenizer(sents).to(DEIVCE)[\"input_ids\"]\n",
    "\n",
    "model = BertForMaskedLM.from_pretrained('bert-base-uncased').to(DEIVCE)\n",
    "outputs = model(**inputs)\n",
    "loss = outputs.loss\n",
    "logits = outputs.logits\n",
    "\n",
    "for i in range(len(sents)):\n",
    "   mask_index = torch.where(inputs[\"input_ids\"][i] == tokenizer.mask_token_id)\n",
    "   softmax = F.softmax(logits, dim=-1)\n",
    "   mask_word = softmax[0, mask_index, :]\n",
    "   top_5 = torch.topk(mask_word, 5, dim=1)[1][0]\n",
    "   for token in top_5:\n",
    "      word = tokenizer.decode([token])\n",
    "      new_sentences = masked_sents[i].replace(tokenizer.mask_token, word)\n",
    "      print(new_sentences)\n"
   ]
  }
 ],
 "metadata": {
  "interpreter": {
   "hash": "492feaf682b21470e654bff857dc2eb7fc8bb0ba6ce9addd9f7af7a048d541df"
  },
  "kernelspec": {
   "display_name": "Python 3.9.7 64-bit ('venv': conda)",
   "language": "python",
   "name": "python3"
  },
  "language_info": {
   "codemirror_mode": {
    "name": "ipython",
    "version": 3
   },
   "file_extension": ".py",
   "mimetype": "text/x-python",
   "name": "python",
   "nbconvert_exporter": "python",
   "pygments_lexer": "ipython3",
   "version": "3.9.7"
  },
  "orig_nbformat": 4
 },
 "nbformat": 4,
 "nbformat_minor": 2
}
